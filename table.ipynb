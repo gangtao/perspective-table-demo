{
 "cells": [
  {
   "cell_type": "code",
   "execution_count": null,
   "id": "d0e25ed2",
   "metadata": {},
   "outputs": [],
   "source": [
    "from perspective import Table, PerspectiveWidget\n",
    "import time"
   ]
  },
  {
   "cell_type": "code",
   "execution_count": 2,
   "id": "82907131",
   "metadata": {},
   "outputs": [],
   "source": [
    "rows = [{\"a\": 1, \"b\": True}, {\"a\": 2, \"b\": False}]\n",
    "\n",
    "table = Table(rows)"
   ]
  },
  {
   "cell_type": "code",
   "execution_count": 3,
   "id": "7adc8ce2",
   "metadata": {},
   "outputs": [
    {
     "data": {
      "application/vnd.jupyter.widget-view+json": {
       "model_id": "1241ce82bed44dabbcbe08692fa64ab9",
       "version_major": 2,
       "version_minor": 0
      },
      "text/plain": [
       "PerspectiveWidget(columns=['a', 'b'], theme=None)"
      ]
     },
     "execution_count": 3,
     "metadata": {},
     "output_type": "execute_result"
    }
   ],
   "source": [
    "PerspectiveWidget(table)"
   ]
  },
  {
   "cell_type": "code",
   "execution_count": 10,
   "id": "5c6d57b7",
   "metadata": {},
   "outputs": [],
   "source": [
    "for i in range(10):\n",
    "    table.update({\n",
    "        \"a\": [i],\n",
    "        \"b\": [True]\n",
    "    })\n",
    "    time.sleep(1)"
   ]
  }
 ],
 "metadata": {
  "kernelspec": {
   "display_name": "Python 3 (ipykernel)",
   "language": "python",
   "name": "python3"
  },
  "language_info": {
   "codemirror_mode": {
    "name": "ipython",
    "version": 3
   },
   "file_extension": ".py",
   "mimetype": "text/x-python",
   "name": "python",
   "nbconvert_exporter": "python",
   "pygments_lexer": "ipython3",
   "version": "3.9.10"
  }
 },
 "nbformat": 4,
 "nbformat_minor": 5
}
